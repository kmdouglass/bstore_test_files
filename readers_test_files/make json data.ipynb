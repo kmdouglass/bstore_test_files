{
 "cells": [
  {
   "cell_type": "code",
   "execution_count": 2,
   "metadata": {
    "collapsed": true
   },
   "outputs": [],
   "source": [
    "import pandas as pd\n",
    "from pathlib import Path"
   ]
  },
  {
   "cell_type": "code",
   "execution_count": 3,
   "metadata": {
    "collapsed": true
   },
   "outputs": [],
   "source": [
    "filename = Path('csv/comma_delimited/HeLaL_Control_1.csv')"
   ]
  },
  {
   "cell_type": "code",
   "execution_count": 4,
   "metadata": {
    "collapsed": true
   },
   "outputs": [],
   "source": [
    "df = pd.read_csv(filename)"
   ]
  },
  {
   "cell_type": "code",
   "execution_count": 5,
   "metadata": {
    "collapsed": false
   },
   "outputs": [
    {
     "data": {
      "text/html": [
       "<div>\n",
       "<table border=\"1\" class=\"dataframe\">\n",
       "  <thead>\n",
       "    <tr style=\"text-align: right;\">\n",
       "      <th></th>\n",
       "      <th>x</th>\n",
       "      <th>y</th>\n",
       "      <th>z</th>\n",
       "      <th>frame</th>\n",
       "      <th>uncertainty</th>\n",
       "      <th>intensity</th>\n",
       "      <th>offset</th>\n",
       "      <th>loglikelihood</th>\n",
       "      <th>sigma</th>\n",
       "    </tr>\n",
       "  </thead>\n",
       "  <tbody>\n",
       "    <tr>\n",
       "      <th>0</th>\n",
       "      <td>6770.0</td>\n",
       "      <td>59386</td>\n",
       "      <td>0</td>\n",
       "      <td>50</td>\n",
       "      <td>9.5138</td>\n",
       "      <td>4386.6</td>\n",
       "      <td>270.24</td>\n",
       "      <td>425.92</td>\n",
       "      <td>218.79</td>\n",
       "    </tr>\n",
       "    <tr>\n",
       "      <th>1</th>\n",
       "      <td>7958.1</td>\n",
       "      <td>59762</td>\n",
       "      <td>0</td>\n",
       "      <td>50</td>\n",
       "      <td>6.7329</td>\n",
       "      <td>8310.3</td>\n",
       "      <td>562.65</td>\n",
       "      <td>619.47</td>\n",
       "      <td>199.50</td>\n",
       "    </tr>\n",
       "    <tr>\n",
       "      <th>2</th>\n",
       "      <td>7840.8</td>\n",
       "      <td>60819</td>\n",
       "      <td>0</td>\n",
       "      <td>50</td>\n",
       "      <td>2.1987</td>\n",
       "      <td>15671.0</td>\n",
       "      <td>1261.10</td>\n",
       "      <td>1691.40</td>\n",
       "      <td>119.47</td>\n",
       "    </tr>\n",
       "    <tr>\n",
       "      <th>3</th>\n",
       "      <td>8090.2</td>\n",
       "      <td>59801</td>\n",
       "      <td>0</td>\n",
       "      <td>50</td>\n",
       "      <td>7.6282</td>\n",
       "      <td>6952.3</td>\n",
       "      <td>642.53</td>\n",
       "      <td>506.19</td>\n",
       "      <td>206.46</td>\n",
       "    </tr>\n",
       "    <tr>\n",
       "      <th>4</th>\n",
       "      <td>9010.3</td>\n",
       "      <td>59647</td>\n",
       "      <td>0</td>\n",
       "      <td>50</td>\n",
       "      <td>6.5814</td>\n",
       "      <td>8408.1</td>\n",
       "      <td>684.29</td>\n",
       "      <td>821.24</td>\n",
       "      <td>197.90</td>\n",
       "    </tr>\n",
       "    <tr>\n",
       "      <th>5</th>\n",
       "      <td>9163.2</td>\n",
       "      <td>60771</td>\n",
       "      <td>0</td>\n",
       "      <td>50</td>\n",
       "      <td>2.5165</td>\n",
       "      <td>13696.0</td>\n",
       "      <td>1161.70</td>\n",
       "      <td>1307.20</td>\n",
       "      <td>124.29</td>\n",
       "    </tr>\n",
       "    <tr>\n",
       "      <th>6</th>\n",
       "      <td>9821.6</td>\n",
       "      <td>57925</td>\n",
       "      <td>0</td>\n",
       "      <td>50</td>\n",
       "      <td>6.1704</td>\n",
       "      <td>8527.4</td>\n",
       "      <td>499.46</td>\n",
       "      <td>603.25</td>\n",
       "      <td>199.65</td>\n",
       "    </tr>\n",
       "    <tr>\n",
       "      <th>7</th>\n",
       "      <td>9899.9</td>\n",
       "      <td>56713</td>\n",
       "      <td>0</td>\n",
       "      <td>50</td>\n",
       "      <td>10.8830</td>\n",
       "      <td>3107.8</td>\n",
       "      <td>341.58</td>\n",
       "      <td>243.08</td>\n",
       "      <td>191.90</td>\n",
       "    </tr>\n",
       "    <tr>\n",
       "      <th>8</th>\n",
       "      <td>9833.3</td>\n",
       "      <td>57936</td>\n",
       "      <td>0</td>\n",
       "      <td>50</td>\n",
       "      <td>6.5072</td>\n",
       "      <td>8247.5</td>\n",
       "      <td>518.02</td>\n",
       "      <td>643.07</td>\n",
       "      <td>204.34</td>\n",
       "    </tr>\n",
       "    <tr>\n",
       "      <th>9</th>\n",
       "      <td>10203.0</td>\n",
       "      <td>62858</td>\n",
       "      <td>0</td>\n",
       "      <td>50</td>\n",
       "      <td>6.1123</td>\n",
       "      <td>8569.2</td>\n",
       "      <td>641.58</td>\n",
       "      <td>732.65</td>\n",
       "      <td>198.22</td>\n",
       "    </tr>\n",
       "    <tr>\n",
       "      <th>10</th>\n",
       "      <td>10350.0</td>\n",
       "      <td>58521</td>\n",
       "      <td>0</td>\n",
       "      <td>50</td>\n",
       "      <td>1.0787</td>\n",
       "      <td>35038.0</td>\n",
       "      <td>1346.00</td>\n",
       "      <td>12727.00</td>\n",
       "      <td>111.56</td>\n",
       "    </tr>\n",
       "  </tbody>\n",
       "</table>\n",
       "</div>"
      ],
      "text/plain": [
       "          x      y  z  frame  uncertainty  intensity   offset  loglikelihood  \\\n",
       "0    6770.0  59386  0     50       9.5138     4386.6   270.24         425.92   \n",
       "1    7958.1  59762  0     50       6.7329     8310.3   562.65         619.47   \n",
       "2    7840.8  60819  0     50       2.1987    15671.0  1261.10        1691.40   \n",
       "3    8090.2  59801  0     50       7.6282     6952.3   642.53         506.19   \n",
       "4    9010.3  59647  0     50       6.5814     8408.1   684.29         821.24   \n",
       "5    9163.2  60771  0     50       2.5165    13696.0  1161.70        1307.20   \n",
       "6    9821.6  57925  0     50       6.1704     8527.4   499.46         603.25   \n",
       "7    9899.9  56713  0     50      10.8830     3107.8   341.58         243.08   \n",
       "8    9833.3  57936  0     50       6.5072     8247.5   518.02         643.07   \n",
       "9   10203.0  62858  0     50       6.1123     8569.2   641.58         732.65   \n",
       "10  10350.0  58521  0     50       1.0787    35038.0  1346.00       12727.00   \n",
       "\n",
       "     sigma  \n",
       "0   218.79  \n",
       "1   199.50  \n",
       "2   119.47  \n",
       "3   206.46  \n",
       "4   197.90  \n",
       "5   124.29  \n",
       "6   199.65  \n",
       "7   191.90  \n",
       "8   204.34  \n",
       "9   198.22  \n",
       "10  111.56  "
      ]
     },
     "execution_count": 5,
     "metadata": {},
     "output_type": "execute_result"
    }
   ],
   "source": [
    "df"
   ]
  },
  {
   "cell_type": "code",
   "execution_count": 7,
   "metadata": {
    "collapsed": true
   },
   "outputs": [],
   "source": [
    "outputfile = Path('json/columns/HeLaL_Control_1.json')\n",
    "df.to_json(str(outputfile), orient='columns')\n",
    "\n",
    "outputfile = Path('json/index/HeLaL_Control_1.json')\n",
    "df.to_json(str(outputfile), orient='index')"
   ]
  },
  {
   "cell_type": "code",
   "execution_count": 11,
   "metadata": {
    "collapsed": true
   },
   "outputs": [],
   "source": [
    "df2=pd.read_json(str(outputfile), orient='index')"
   ]
  },
  {
   "cell_type": "code",
   "execution_count": 13,
   "metadata": {
    "collapsed": false
   },
   "outputs": [
    {
     "data": {
      "text/plain": [
       "9"
      ]
     },
     "execution_count": 13,
     "metadata": {},
     "output_type": "execute_result"
    }
   ],
   "source": [
    "len(df2.columns)"
   ]
  },
  {
   "cell_type": "code",
   "execution_count": null,
   "metadata": {
    "collapsed": true
   },
   "outputs": [],
   "source": []
  }
 ],
 "metadata": {
  "anaconda-cloud": {},
  "kernelspec": {
   "display_name": "Python [conda env:bstore]",
   "language": "python",
   "name": "conda-env-bstore-py"
  },
  "language_info": {
   "codemirror_mode": {
    "name": "ipython",
    "version": 3
   },
   "file_extension": ".py",
   "mimetype": "text/x-python",
   "name": "python",
   "nbconvert_exporter": "python",
   "pygments_lexer": "ipython3",
   "version": "3.5.2"
  }
 },
 "nbformat": 4,
 "nbformat_minor": 2
}
